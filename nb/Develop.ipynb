{
 "cells": [
  {
   "cell_type": "code",
   "execution_count": 1,
   "id": "17cf58e1",
   "metadata": {},
   "outputs": [],
   "source": [
    "import jax.numpy as jnp\n",
    "from jax import grad, jit, vmap\n",
    "from jax import random\n",
    "import numpy\n",
    "import sncosmo"
   ]
  },
  {
   "cell_type": "code",
   "execution_count": 2,
   "id": "8e9db866",
   "metadata": {},
   "outputs": [
    {
     "name": "stderr",
     "output_type": "stream",
     "text": [
      "2024-01-24 16:53:21.397411: E external/org_tensorflow/tensorflow/compiler/xla/python/pjit.cc:606] fastpath_data is none\n"
     ]
    }
   ],
   "source": [
    "# bands = [sncosmo.get_bandpass('desg'),sncosmo.get_bandpass('desr'),sncosmo.get_bandpass('desi')]\n",
    "model = sncosmo.Model(source='salt3')\n",
    "redshift = 0.6"
   ]
  },
  {
   "cell_type": "code",
   "execution_count": 3,
   "id": "7118ab28",
   "metadata": {},
   "outputs": [
    {
     "name": "stdout",
     "output_type": "stream",
     "text": [
      "t0 0\n",
      "x0 10\n",
      "x1 0\n",
      "c 0\n",
      "z 0.5\n",
      "<class 'jaxlib.xla_extension.Array'>\n",
      "0.0 528378.1274883613\n",
      "<Model at 0x7fd051aab760>\n",
      "source:\n",
      "  class      : SALT3Source\n",
      "  name       : 'salt3'\n",
      "  version    : 2.0\n",
      "  phases     : [-20, .., 50] days\n",
      "  wavelengths: [2000, .., 11000] Angstroms\n",
      "parameters:\n",
      "  z  = Array(0., dtype=float32)\n",
      "  t0 = Array(0., dtype=float32)\n",
      "  x0 = Array(0., dtype=float32)\n",
      "  x1 = Array(0., dtype=float32)\n",
      "  c  = Array(0., dtype=float32)\n"
     ]
    },
    {
     "name": "stderr",
     "output_type": "stream",
     "text": [
      "/Users/akim/Projects/sncosmo/sncosmo/models.py:192: RuntimeWarning: divide by zero encountered in log10\n",
      "  result[i] = -2.5 * np.log10(f / zpf)\n"
     ]
    }
   ],
   "source": [
    "model.set( t0=0, x0=10, x1=0, c=0, z=0.5)\n",
    "model.bandmag('desg','ab',0)\n",
    "print(model)"
   ]
  },
  {
   "cell_type": "code",
   "execution_count": 3,
   "id": "ddda92a6",
   "metadata": {},
   "outputs": [],
   "source": [
    "def bandmag(t0, x0, x1, c, t, z, band, magsys='ab'):\n",
    "    model.set( t0=t0, x0=x0, x1=x1, c=c, z=z)\n",
    "    mags = model.bandmag(band, magsys, t)\n",
    "    return mags"
   ]
  },
  {
   "cell_type": "code",
   "execution_count": 4,
   "id": "51d8c498",
   "metadata": {},
   "outputs": [],
   "source": [
    "derivative_bandmag=grad(bandmag,(0,1,2,3))"
   ]
  },
  {
   "cell_type": "code",
   "execution_count": 5,
   "id": "e39d6fea",
   "metadata": {
    "scrolled": false
   },
   "outputs": [
    {
     "name": "stdout",
     "output_type": "stream",
     "text": [
      "<class 'jaxlib.xla_extension.Array'>\n",
      "0.0 528378.1274883613\n"
     ]
    },
    {
     "name": "stderr",
     "output_type": "stream",
     "text": [
      "/Users/akim/Projects/sncosmo/sncosmo/models.py:192: RuntimeWarning: divide by zero encountered in log10\n",
      "  result[i] = -2.5 * np.log10(f / zpf)\n"
     ]
    },
    {
     "data": {
      "text/plain": [
       "(Array(0., dtype=float32, weak_type=True),\n",
       " Array(0., dtype=float32, weak_type=True),\n",
       " Array(0., dtype=float32, weak_type=True),\n",
       " Array(0., dtype=float32, weak_type=True))"
      ]
     },
     "execution_count": 5,
     "metadata": {},
     "output_type": "execute_result"
    }
   ],
   "source": [
    "derivative_bandmag(0., 10.,0.,0.,0.,0.5,'desg')"
   ]
  },
  {
   "cell_type": "code",
   "execution_count": null,
   "id": "5aebc89e",
   "metadata": {},
   "outputs": [],
   "source": [
    "dates = numpy.linspace(-20,60,5)\n",
    "print(type(bandmag(0,1,10,0,0,redshift,'desg')))"
   ]
  },
  {
   "cell_type": "code",
   "execution_count": 11,
   "id": "1e8760b1",
   "metadata": {},
   "outputs": [
    {
     "name": "stdout",
     "output_type": "stream",
     "text": [
      "<Model at 0x7ff7200740a0>\n",
      "source:\n",
      "  class      : SALT3Source\n",
      "  name       : 'salt3'\n",
      "  version    : 2.0\n",
      "  phases     : [-20, .., 50] days\n",
      "  wavelengths: [2000, .., 11000] Angstroms\n",
      "parameters:\n",
      "  z  = Array(0., dtype=float32)\n",
      "  t0 = Array(0., dtype=float32)\n",
      "  x0 = Array(0., dtype=float32)\n",
      "  x1 = Array(0., dtype=float32)\n",
      "  c  = Array(0., dtype=float32)\n"
     ]
    }
   ],
   "source": []
  },
  {
   "cell_type": "markdown",
   "id": "5406b33f",
   "metadata": {},
   "source": [
    "Model parameters\n",
    "{x0, x1, c, t0}"
   ]
  },
  {
   "cell_type": "code",
   "execution_count": 3,
   "id": "e50576db",
   "metadata": {},
   "outputs": [
    {
     "name": "stdout",
     "output_type": "stream",
     "text": [
      "Using mps device\n"
     ]
    }
   ],
   "source": [
    "device = (\n",
    "    \"cuda\"\n",
    "    if torch.cuda.is_available()\n",
    "    else \"mps\"\n",
    "    if torch.backends.mps.is_available()\n",
    "    else \"cpu\"\n",
    ")\n",
    "print(f\"Using {device} device\")"
   ]
  },
  {
   "cell_type": "code",
   "execution_count": 4,
   "id": "24e575a3",
   "metadata": {},
   "outputs": [],
   "source": [
    "class NeuralNetwork(nn.Module):\n",
    "    def __init__(self):\n",
    "        super().__init__()\n",
    "        self.flatten = nn.Flatten()\n",
    "        self.linear_relu_stack = nn.Sequential(\n",
    "            nn.Linear(28*28, 512),\n",
    "            nn.ReLU(),\n",
    "            nn.Linear(512, 512),\n",
    "            nn.ReLU(),\n",
    "            nn.Linear(512, 10),\n",
    "        )\n",
    "\n",
    "    def forward(self, x):\n",
    "        x = self.flatten(x)\n",
    "        logits = self.linear_relu_stack(x)\n",
    "        return logits"
   ]
  },
  {
   "cell_type": "code",
   "execution_count": 5,
   "id": "3cacb789",
   "metadata": {},
   "outputs": [
    {
     "name": "stdout",
     "output_type": "stream",
     "text": [
      "NeuralNetwork(\n",
      "  (flatten): Flatten(start_dim=1, end_dim=-1)\n",
      "  (linear_relu_stack): Sequential(\n",
      "    (0): Linear(in_features=784, out_features=512, bias=True)\n",
      "    (1): ReLU()\n",
      "    (2): Linear(in_features=512, out_features=512, bias=True)\n",
      "    (3): ReLU()\n",
      "    (4): Linear(in_features=512, out_features=10, bias=True)\n",
      "  )\n",
      ")\n"
     ]
    }
   ],
   "source": [
    "model = NeuralNetwork().to(device)\n",
    "print(model)"
   ]
  },
  {
   "cell_type": "code",
   "execution_count": null,
   "id": "10cab5ba",
   "metadata": {},
   "outputs": [],
   "source": []
  }
 ],
 "metadata": {
  "kernelspec": {
   "display_name": "Python 3 (ipykernel)",
   "language": "python",
   "name": "python3"
  },
  "language_info": {
   "codemirror_mode": {
    "name": "ipython",
    "version": 3
   },
   "file_extension": ".py",
   "mimetype": "text/x-python",
   "name": "python",
   "nbconvert_exporter": "python",
   "pygments_lexer": "ipython3",
   "version": "3.9.18"
  }
 },
 "nbformat": 4,
 "nbformat_minor": 5
}
