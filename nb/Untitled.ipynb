{
 "cells": [
  {
   "cell_type": "code",
   "execution_count": 60,
   "id": "3eac60f2-87cf-4646-a469-d707e5f568f5",
   "metadata": {},
   "outputs": [],
   "source": [
    "import jax\n",
    "import jax.numpy as jnp\n",
    "from jax import grad, jit, vmap\n",
    "from jax import random\n",
    "from jax import jacfwd\n",
    "import jax_cosmo as jc\n",
    "import numpy\n",
    "import matplotlib.pyplot as plt\n",
    "import scipy"
   ]
  },
  {
   "cell_type": "code",
   "execution_count": 18,
   "id": "6845a8a0-e956-4e11-8010-2ec925032fbb",
   "metadata": {},
   "outputs": [],
   "source": [
    "jax.config.update(\"jax_enable_x64\", True)\n",
    "jax.config.update(\"jax_platform_name\", \"cpu\")\n",
    "jax.config.update(\"jax_debug_nans\", True)"
   ]
  },
  {
   "cell_type": "code",
   "execution_count": 19,
   "id": "733e389a-5a18-460d-a296-323acc8ebe2b",
   "metadata": {},
   "outputs": [],
   "source": [
    "def single(a,b):\n",
    "    return jnp.sum(a)+jnp.sum(b)"
   ]
  },
  {
   "cell_type": "code",
   "execution_count": 20,
   "id": "1ffaf4e1-056d-49ce-8d04-0b72f8de5f38",
   "metadata": {},
   "outputs": [],
   "source": [
    "def multi(a,b):\n",
    "    return vmap(single,(0,0))(a,b)"
   ]
  },
  {
   "cell_type": "code",
   "execution_count": 24,
   "id": "5c9d15b1-e6d0-4dd3-ad2b-d477b714cef6",
   "metadata": {},
   "outputs": [],
   "source": [
    "def multi2(a,b):\n",
    "    ans=0.\n",
    "    for a_,b_ in zip(a,b):\n",
    "        ans += single(a_,b_)\n",
    "    return ans"
   ]
  },
  {
   "cell_type": "code",
   "execution_count": 21,
   "id": "5b93545e-eff0-4d4f-998f-6a7754c87474",
   "metadata": {},
   "outputs": [],
   "source": [
    "a=numpy.array([1,3,5])\n",
    "b=numpy.array([3,2])\n",
    "a_=[a,numpy.array([4,6,7,8])]\n",
    "b_=[b,numpy.array([3,1,1])]"
   ]
  },
  {
   "cell_type": "code",
   "execution_count": 22,
   "id": "bcc87e95-a8d5-49e1-9b17-0a126eb1ce16",
   "metadata": {},
   "outputs": [
    {
     "data": {
      "text/plain": [
       "Array(14, dtype=int64)"
      ]
     },
     "execution_count": 22,
     "metadata": {},
     "output_type": "execute_result"
    }
   ],
   "source": [
    "single(a,b)"
   ]
  },
  {
   "cell_type": "code",
   "execution_count": 25,
   "id": "3b4681c1-cdb3-4259-89d0-baa9db138d2b",
   "metadata": {},
   "outputs": [
    {
     "data": {
      "text/plain": [
       "Array(44., dtype=float64, weak_type=True)"
      ]
     },
     "execution_count": 25,
     "metadata": {},
     "output_type": "execute_result"
    }
   ],
   "source": [
    "multi2(a_,b_)"
   ]
  },
  {
   "cell_type": "code",
   "execution_count": 34,
   "id": "7d231a88-b600-4e00-ab92-47d22479a494",
   "metadata": {},
   "outputs": [
    {
     "name": "stdout",
     "output_type": "stream",
     "text": [
      "[[4.1 4. ]\n",
      " [4.  4.2]]\n"
     ]
    }
   ],
   "source": [
    "mat=numpy.zeros((2,2))+4\n",
    "mat[range(2),range(2)]=mat[range(2),range(2)]+[.1,.2]\n",
    "print(mat)"
   ]
  },
  {
   "cell_type": "code",
   "execution_count": 214,
   "id": "0f253676-e71e-4439-8cb7-4453ad6194a8",
   "metadata": {},
   "outputs": [],
   "source": [
    "dm_int=0.1\n",
    "dm_obs=numpy.array([0.02,0.03])\n",
    "cov = (numpy.zeros((2,2))+dm_int**2)+numpy.identity(2)*dm_obs**2\n",
    "L= scipy.linalg.cholesky(cov)"
   ]
  },
  {
   "cell_type": "code",
   "execution_count": 215,
   "id": "35a44a0b-c078-45cf-89a8-dba894aa4243",
   "metadata": {
    "scrolled": true
   },
   "outputs": [],
   "source": [
    "cov2 = numpy.identity(2)*dm_obs**2\n",
    "L2= scipy.linalg.cholesky(cov2)"
   ]
  },
  {
   "cell_type": "code",
   "execution_count": 232,
   "id": "a194af04-bcfa-4130-9a06-9dd034b8d8fb",
   "metadata": {},
   "outputs": [],
   "source": [
    "data_=[]\n",
    "data2_=[]\n",
    "for i in range(100000):\n",
    "    data=(numpy.zeros(2)+numpy.random.normal(0,dm_int))+ numpy.random.normal(0,dm_obs)\n",
    "    x = scipy.linalg.solve_triangular(L, data)\n",
    "    data_.append(numpy.dot(x,x))\n",
    "\n",
    "    data=numpy.random.normal(0,dm_obs)\n",
    "    x = scipy.linalg.solve_triangular(L2, data)\n",
    "    data2_.append(numpy.dot(x,x))\n",
    "data_=numpy.sort(data_)\n",
    "data2_=numpy.sort(data2_)"
   ]
  },
  {
   "cell_type": "code",
   "execution_count": 240,
   "id": "158e5abc-49e7-4710-92df-4c4574ca4c93",
   "metadata": {},
   "outputs": [
    {
     "data": {
      "text/plain": [
       "0.1714039901396549"
      ]
     },
     "execution_count": 240,
     "metadata": {},
     "output_type": "execute_result"
    }
   ],
   "source": [
    "data_[int(10000*.6827)]"
   ]
  },
  {
   "cell_type": "code",
   "execution_count": 236,
   "id": "2ebd9315-e9f4-4bfe-b175-c73578355288",
   "metadata": {},
   "outputs": [
    {
     "data": {
      "text/plain": [
       "array([1.22763846e-05, 2.54195693e-05])"
      ]
     },
     "execution_count": 236,
     "metadata": {},
     "output_type": "execute_result"
    }
   ],
   "source": [
    "data2_[0:2]"
   ]
  },
  {
   "cell_type": "code",
   "execution_count": 246,
   "id": "cd4bcc5a-fd6d-46f3-8a06-17d493dfe32b",
   "metadata": {},
   "outputs": [
    {
     "data": {
      "image/png": "[encoded data removed]",
      "text/plain": [
       "<Figure size 640x480 with 1 Axes>"
      ]
     },
     "metadata": {},
     "output_type": "display_data"
    }
   ],
   "source": [
    "plt.hist(data_,bins=numpy.linspace(0,10,21),alpha=0.4)\n",
    "plt.hist(data2_,bins=numpy.linspace(0,10,21),alpha=0.4)\n",
    "plt.xlim((0,10))\n",
    "plt.grid()"
   ]
  },
  {
   "cell_type": "code",
   "execution_count": 250,
   "id": "9e9184b0-a519-490e-9fbc-e2b51070dba5",
   "metadata": {},
   "outputs": [
    {
     "name": "stdout",
     "output_type": "stream",
     "text": [
      "0.1 [0.02 0.03]\n",
      "[[0.01038405 0.00998584]\n",
      " [0.00998584 0.01088657]]\n"
     ]
    }
   ],
   "source": [
    "data_=[]\n",
    "for i in range(100000):\n",
    "    data=(numpy.zeros(2)+numpy.random.normal(0,dm_int))+ numpy.random.normal(0,dm_obs)\n",
    "    data_.append(data)\n",
    "\n",
    "print(dm_int, dm_obs)\n",
    "print(numpy.cov(data_,rowvar=False))\n"
   ]
  },
  {
   "cell_type": "code",
   "execution_count": 123,
   "id": "d6b1bbde-afbc-4915-afe6-6604fa881ec6",
   "metadata": {},
   "outputs": [
    {
     "data": {
      "text/plain": [
       "16.030081395810242"
      ]
     },
     "execution_count": 123,
     "metadata": {},
     "output_type": "execute_result"
    }
   ],
   "source": [
    "numpy.dot(x,x)"
   ]
  },
  {
   "cell_type": "code",
   "execution_count": 132,
   "id": "98e84824-0755-4b56-b6fb-a02bff7977d8",
   "metadata": {},
   "outputs": [
    {
     "name": "stdout",
     "output_type": "stream",
     "text": [
      "[-0.04093584  1.62291939]\n"
     ]
    }
   ],
   "source": [
    "data = numpy.random.normal(size=2)\n",
    "print(data)"
   ]
  },
  {
   "cell_type": "code",
   "execution_count": 133,
   "id": "43aca8a3-3c02-4f43-80ac-68c281c8f018",
   "metadata": {},
   "outputs": [],
   "source": [
    "data = numpy.dot(L,data)"
   ]
  },
  {
   "cell_type": "code",
   "execution_count": 134,
   "id": "d935f40f-fbd1-4a3d-97b9-b7026e22b624",
   "metadata": {},
   "outputs": [
    {
     "data": {
      "text/plain": [
       "array([0.15496569, 0.05816792])"
      ]
     },
     "execution_count": 134,
     "metadata": {},
     "output_type": "execute_result"
    }
   ],
   "source": [
    "data"
   ]
  },
  {
   "cell_type": "code",
   "execution_count": 135,
   "id": "28c6616f-5a2b-447a-b7b5-44e4540418d5",
   "metadata": {},
   "outputs": [],
   "source": [
    "x = scipy.linalg.solve_triangular(L, data)"
   ]
  },
  {
   "cell_type": "code",
   "execution_count": 136,
   "id": "e72e6512-d850-400b-871b-80fca4492c2c",
   "metadata": {},
   "outputs": [
    {
     "data": {
      "text/plain": [
       "array([-0.04093584,  1.62291939])"
      ]
     },
     "execution_count": 136,
     "metadata": {},
     "output_type": "execute_result"
    }
   ],
   "source": [
    "x"
   ]
  },
  {
   "cell_type": "code",
   "execution_count": null,
   "id": "ebcc4bea-5995-4a60-a8f4-0cb74e1abe93",
   "metadata": {},
   "outputs": [],
   "source": []
  }
 ],
 "metadata": {
  "kernelspec": {
   "display_name": "Python 3 (ipykernel)",
   "language": "python",
   "name": "python3"
  },
  "language_info": {
   "codemirror_mode": {
    "name": "ipython",
    "version": 3
   },
   "file_extension": ".py",
   "mimetype": "text/x-python",
   "name": "python",
   "nbconvert_exporter": "python",
   "pygments_lexer": "ipython3",
   "version": "3.11.7"
  }
 },
 "nbformat": 4,
 "nbformat_minor": 5
}
