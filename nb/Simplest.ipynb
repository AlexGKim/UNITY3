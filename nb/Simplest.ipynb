{
 "cells": [
  {
   "cell_type": "code",
   "execution_count": 1,
   "id": "350774ff-6bbb-48e7-99c6-6d9b81761521",
   "metadata": {},
   "outputs": [],
   "source": [
    "import jax\n",
    "import jax.numpy as jnp\n",
    "import jax.scipy as jsp\n",
    "from jax import grad, jit, vmap\n",
    "from jax import random\n",
    "from jax import jacfwd\n",
    "import jax_cosmo as jc\n",
    "import numpy\n",
    "import numpy as np\n",
    "import scipy\n",
    "import matplotlib.pyplot as plt\n",
    "from scipy.stats import exponnorm\n",
    "import sncosmo"
   ]
  },
  {
   "cell_type": "code",
   "execution_count": 2,
   "id": "8f869ab7-7b21-4c33-9a95-707ee2eb5fe3",
   "metadata": {},
   "outputs": [],
   "source": [
    "jax.config.update(\"jax_enable_x64\", True)\n",
    "jax.config.update(\"jax_platform_name\", \"cpu\")\n",
    "jax.config.update(\"jax_debug_nans\", True)"
   ]
  },
  {
   "cell_type": "markdown",
   "id": "7e6420e6-d0d4-46af-b6a6-4a5ca0d391b9",
   "metadata": {},
   "source": [
    "# Calculate the Fisher Matrix of SN programs\n",
    "\n",
    "The data are m and measurement uncertainty dm\n",
    "\n",
    "The model parameters are\n",
    "\n",
    "Omega: Cosmological\n",
    "c: calibration\n",
    "Av, Rv: per supernova dust\n",
    "\n",
    "The likelihood p(y| Omega, c, Av, Rv) is\n",
    "N(c,dc) P(Av, Rv) Prod_SN N(m-(M+mu+C(c)+D(Av, Rv), dm_I^2 + dm^2)\n",
    "\n",
    "The terms are\n",
    "<partial ^2 lnL / partial alpha partial beta> = -partial X / partial alpha C^{-1} partial X /beta + delta_alpha,beta d2(ln p_alpha)\n"
   ]
  },
  {
   "cell_type": "code",
   "execution_count": 3,
   "id": "feeb7942-0165-4ec5-8c6c-95423867608b",
   "metadata": {},
   "outputs": [],
   "source": [
    "# Standard candle spectrum convolved with a nominal logarithmic filter\n",
    "@jit\n",
    "def M_sn(wl):\n",
    "    wl0=5500.\n",
    "    sig2 = 5e6\n",
    "    return (wl-wl0)**2/2/sig2/2.5"
   ]
  },
  {
   "cell_type": "code",
   "execution_count": 209,
   "id": "b9bb0d3c-dee2-48b3-a2f8-d42d5a764354",
   "metadata": {},
   "outputs": [],
   "source": [
    "class SNModel(object):\n",
    "    \n",
    "    def __init__(self):\n",
    "        self.wave=numpy.array([4000,5000,6000,7000,10000])\n",
    "        self.values = numpy.array([4,5,6,7,0])\n",
    "        # phase, self.wave, values = sncosmo.io.read_griddata_ascii('../data/salt2_template_0.dat')\n",
    "        # self.values=values[numpy.where(phase==0)[0][0],:]\n",
    "\n",
    "    @staticmethod\n",
    "    def interp_(x, xp, fp):\n",
    "        \"\"\"\n",
    "        Simple equivalent of np.interp that compute a linear interpolation.\n",
    "    \n",
    "        We are not doing any checks, so make sure your query points are lying\n",
    "        inside the array.\n",
    "    \n",
    "        TODO: Implement proper interpolation!\n",
    "    \n",
    "        x, xp, fp need to be 1d arrays\n",
    "        \"\"\"\n",
    "        # First we find the nearest neighbour\n",
    "        ind = jnp.argmin((x - xp) ** 2)\n",
    "    \n",
    "        # Perform linear interpolation\n",
    "        ind = jnp.clip(ind, 1, len(xp) - 2)\n",
    "        xi = jnp.asarray(xp)[ind]\n",
    "    \n",
    "        # Figure out if we are on the right or the left of nearest\n",
    "        s = jnp.sign(jnp.clip(x, jnp.asarray(xp)[1], jnp.asarray(xp)[-2]) - xi).astype(np.int64)\n",
    "        a = (jnp.asarray(fp)[ind + jnp.copysign(1, s).astype(np.int64)] - jnp.asarray(fp)[ind]) / (\n",
    "            jnp.asarray(xp)[ind + jnp.copysign(1, s).astype(np.int64)] - jnp.asarray(xp)[ind]\n",
    "        )\n",
    "        b = jnp.asarray(fp)[ind] - a * jnp.asarray(xp)[ind]\n",
    "        \n",
    "        return a * x + b\n",
    "        \n",
    "    @staticmethod\n",
    "    def interp(x,xp,fp):\n",
    "        return vmap(interp_,(0, None, None))(x,xp,fp)\n",
    "        \n",
    "    def flux(self,wave_in):\n",
    "        return interp(wave_in,self.wave,self.values)\n",
    "\n",
    "    def bandflux_one(self,wl,R):\n",
    "        ans=0.\n",
    "        delta = numpy.arcsinh(1/2/R)\n",
    "        lmin= wl*numpy.exp(-delta)\n",
    "        lmax= wl*numpy.exp(delta)\n",
    "        #left edge\n",
    "        vall = SNModel.interp_(lmin,self.wave,self.values)\n",
    "        valr = SNModel.interp_(lmax,self.wave,self.values)\n",
    "\n",
    "        logic = numpy.logical_and(self.wave > lmin, self.wave <lmax)\n",
    "        print(logic, [lmin, self.wave[logic], lmax])\n",
    "        _wave  = numpy.concatenate((numpy.array([lmin]), self.wave[logic], numpy.array([lmax])))\n",
    "        _flux = numpy.concatenate((numpy.array([vall]), self.values[logic], numpy.array([valr])))\n",
    "        print(_wave,_flux)\n",
    "        wef\n",
    "        # First we find the nearest neighbour\n",
    "        ind = jnp.argmin((x - self.wave) ** 2)\n",
    "        ind = jnp.select([(x-self.wave[ind]) < 0], [ind-1],ind)\n",
    "        a = (jnp.asarray(self.values)[ind + 1] - jnp.asarray(self.values)[ind]) / (\n",
    "            jnp.asarray(self.wave)[ind + 1] - jnp.asarray(self.wave)[ind]\n",
    "        )\n",
    "        b = jnp.asarray(self.values)[ind] - a * jnp.asarray(self.wave)[ind]\n",
    "        vall = a * x + b\n",
    "        indl=ind+1\n",
    "\n",
    "        #right edge\n",
    "        x=lmax\n",
    "        # First we find the nearest neighbour\n",
    "        ind = jnp.argmin((x - self.wave) ** 2)\n",
    "        ind = jnp.select([(x-self.wave[ind]) < 0], [ind-1],ind)\n",
    "        a = (jnp.asarray(self.values)[ind + 1] - jnp.asarray(self.values)[ind]) / (\n",
    "            jnp.asarray(self.wave)[ind + 1] - jnp.asarray(self.wave)[ind]\n",
    "        )\n",
    "        b = jnp.asarray(self.values)[ind] - a * jnp.asarray(self.wave)[ind]\n",
    "        valr = a * x + b\n",
    "        # ans += (val+jnp.asarray(self.values)[ind])/2*(x-jnp.asarray(self.wave)[ind])\n",
    "        indr=ind\n",
    "\n",
    "        #the middle\n",
    "        # ans += jax.scipy.integrate.trapezoid(jnp.asarray(self.values)[indl:indr+1], jnp.asarray(self.wave)[indl:indr+1])\n",
    "       \n",
    "        return ans\n",
    "\n",
    "    # def bandflux(self,wl,R):\n",
    "    #     return vmap(bandflux_one(self,wl,R),(None,0,None))(self,wl,R)"
   ]
  },
  {
   "cell_type": "code",
   "execution_count": 210,
   "id": "8b771d69-d900-4af7-9844-93bdbd758dab",
   "metadata": {},
   "outputs": [],
   "source": [
    "sn=SNModel()"
   ]
  },
  {
   "cell_type": "code",
   "execution_count": 211,
   "id": "f9701319-5915-40c8-b9fc-6e50fe9c56f5",
   "metadata": {},
   "outputs": [
    {
     "name": "stdout",
     "output_type": "stream",
     "text": [
      "[ True False False False False] [3805.9481281198823, array([4000]), 4206.048128119883]\n",
      "[3805.94812812 4000.         4206.04812812] [3.80594813 4.         4.20604813]\n"
     ]
    },
    {
     "ename": "NameError",
     "evalue": "name 'wef' is not defined",
     "output_type": "error",
     "traceback": [
      "\u001b[0;31m---------------------------------------------------------------------------\u001b[0m",
      "\u001b[0;31mNameError\u001b[0m                                 Traceback (most recent call last)",
      "Cell \u001b[0;32mIn[211], line 1\u001b[0m\n\u001b[0;32m----> 1\u001b[0m ans \u001b[38;5;241m=\u001b[39m [ sn\u001b[38;5;241m.\u001b[39mbandflux_one(numpy\u001b[38;5;241m.\u001b[39marray(wl),\u001b[38;5;241m10.\u001b[39m) \u001b[38;5;28;01mfor\u001b[39;00m wl \u001b[38;5;129;01min\u001b[39;00m numpy\u001b[38;5;241m.\u001b[39mlinspace(\u001b[38;5;241m4001.\u001b[39m,\u001b[38;5;241m6700\u001b[39m,\u001b[38;5;241m100\u001b[39m) ]\n",
      "Cell \u001b[0;32mIn[211], line 1\u001b[0m, in \u001b[0;36m<listcomp>\u001b[0;34m(.0)\u001b[0m\n\u001b[0;32m----> 1\u001b[0m ans \u001b[38;5;241m=\u001b[39m [ sn\u001b[38;5;241m.\u001b[39mbandflux_one(numpy\u001b[38;5;241m.\u001b[39marray(wl),\u001b[38;5;241m10.\u001b[39m) \u001b[38;5;28;01mfor\u001b[39;00m wl \u001b[38;5;129;01min\u001b[39;00m numpy\u001b[38;5;241m.\u001b[39mlinspace(\u001b[38;5;241m4001.\u001b[39m,\u001b[38;5;241m6700\u001b[39m,\u001b[38;5;241m100\u001b[39m) ]\n",
      "Cell \u001b[0;32mIn[209], line 58\u001b[0m, in \u001b[0;36mSNModel.bandflux_one\u001b[0;34m(self, wl, R)\u001b[0m\n\u001b[1;32m     56\u001b[0m _flux \u001b[38;5;241m=\u001b[39m numpy\u001b[38;5;241m.\u001b[39mconcatenate((numpy\u001b[38;5;241m.\u001b[39marray([vall]), \u001b[38;5;28mself\u001b[39m\u001b[38;5;241m.\u001b[39mvalues[logic], numpy\u001b[38;5;241m.\u001b[39marray([valr])))\n\u001b[1;32m     57\u001b[0m \u001b[38;5;28mprint\u001b[39m(_wave,_flux)\n\u001b[0;32m---> 58\u001b[0m wef\n\u001b[1;32m     59\u001b[0m \u001b[38;5;66;03m# First we find the nearest neighbour\u001b[39;00m\n\u001b[1;32m     60\u001b[0m ind \u001b[38;5;241m=\u001b[39m jnp\u001b[38;5;241m.\u001b[39margmin((x \u001b[38;5;241m-\u001b[39m \u001b[38;5;28mself\u001b[39m\u001b[38;5;241m.\u001b[39mwave) \u001b[38;5;241m*\u001b[39m\u001b[38;5;241m*\u001b[39m \u001b[38;5;241m2\u001b[39m)\n",
      "\u001b[0;31mNameError\u001b[0m: name 'wef' is not defined"
     ]
    }
   ],
   "source": [
    "ans = [ sn.bandflux_one(numpy.array(wl),10.) for wl in numpy.linspace(4001.,6700,100) ]"
   ]
  },
  {
   "cell_type": "code",
   "execution_count": 174,
   "id": "76d32b8b-6938-444b-bc98-80439b89ffb2",
   "metadata": {},
   "outputs": [
    {
     "data": {
      "text/plain": [
       "[<matplotlib.lines.Line2D at 0x148920a10>]"
      ]
     },
     "execution_count": 174,
     "metadata": {},
     "output_type": "execute_result"
    },
    {
     "data": {
      "image/png": "[encoded data removed]",
      "text/plain": [
       "<Figure size 640x480 with 1 Axes>"
      ]
     },
     "metadata": {},
     "output_type": "display_data"
    }
   ],
   "source": [
    "plt.plot(numpy.linspace(4001.,6700,100),ans)"
   ]
  },
  {
   "cell_type": "code",
   "execution_count": null,
   "id": "b8324bce-f862-4b34-be05-a84e723802c2",
   "metadata": {},
   "outputs": [],
   "source": []
  },
  {
   "cell_type": "code",
   "execution_count": 142,
   "id": "f0f4e59c-ad77-4380-b71a-3b410cebec17",
   "metadata": {},
   "outputs": [
    {
     "ename": "NameError",
     "evalue": "name 'interp' is not defined",
     "output_type": "error",
     "traceback": [
      "\u001b[0;31m---------------------------------------------------------------------------\u001b[0m",
      "\u001b[0;31mNameError\u001b[0m                                 Traceback (most recent call last)",
      "Cell \u001b[0;32mIn[142], line 2\u001b[0m\n\u001b[1;32m      1\u001b[0m wls \u001b[38;5;241m=\u001b[39m numpy\u001b[38;5;241m.\u001b[39mlinspace(\u001b[38;5;241m4010\u001b[39m,\u001b[38;5;241m7000\u001b[39m,\u001b[38;5;241m10\u001b[39m)\n\u001b[0;32m----> 2\u001b[0m plt\u001b[38;5;241m.\u001b[39mplot(wls,sn\u001b[38;5;241m.\u001b[39mflux(wls))\n",
      "Cell \u001b[0;32mIn[131], line 42\u001b[0m, in \u001b[0;36mSNModel.flux\u001b[0;34m(self, wave_in)\u001b[0m\n\u001b[1;32m     41\u001b[0m \u001b[38;5;28;01mdef\u001b[39;00m \u001b[38;5;21mflux\u001b[39m(\u001b[38;5;28mself\u001b[39m,wave_in):\n\u001b[0;32m---> 42\u001b[0m     \u001b[38;5;28;01mreturn\u001b[39;00m interp(wave_in,\u001b[38;5;28mself\u001b[39m\u001b[38;5;241m.\u001b[39mwave,\u001b[38;5;28mself\u001b[39m\u001b[38;5;241m.\u001b[39mvalues)\n",
      "\u001b[0;31mNameError\u001b[0m: name 'interp' is not defined"
     ]
    }
   ],
   "source": [
    "wls = numpy.linspace(4010,7000,10)\n",
    "plt.plot(wls,sn.flux(wls))"
   ]
  },
  {
   "cell_type": "code",
   "execution_count": null,
   "id": "f7847e6f-876a-47df-9e2c-1297eed354c8",
   "metadata": {},
   "outputs": [],
   "source": []
  },
  {
   "cell_type": "code",
   "execution_count": 4,
   "id": "6ebdae82-ee40-4c80-b34d-4be0a921bd3c",
   "metadata": {},
   "outputs": [],
   "source": [
    "@jit\n",
    "def CCM_a(wl):\n",
    "    def infrared(x):\n",
    "        a = 0.574*x**1.61\n",
    "        return a\n",
    "\n",
    "    def optical(x):\n",
    "        y=x-1.82\n",
    "        a = 1 + 0.17699*y - 0.50447*y**2 - 0.02427*y**3 + 0.72085*y**4+ 0.01979*y**5 - 0.77530*y**6 + 0.32999*y**7\n",
    "        return a\n",
    "\n",
    "    def ultraviolet(x):\n",
    "        a = 1.752 - 0.316*x - 0.104/((x - 4.67)**2 + 0.341)\n",
    "        return a\n",
    "        \n",
    "    x = 1e4/wl\n",
    "    return jnp.select(condlist=[(x >= 0.3) & (x<=1.1), (x >= 1.1) & (x<=3.3), (x >= 3.3) & (x<=5.9)],\n",
    "                                choicelist=[infrared(x), optical(x), ultraviolet(x)], default=0.)\n",
    "def CCM_a_multi(wl):\n",
    "    return vmap(CCM_a,(0))(wl)"
   ]
  },
  {
   "cell_type": "code",
   "execution_count": 5,
   "id": "b05d0764-e24e-42dc-8d0e-d5e81dfca2e0",
   "metadata": {},
   "outputs": [],
   "source": [
    "@jit\n",
    "def CCM_b(wl):\n",
    "    def infrared(x):\n",
    "        b = -0.527*x**1.61\n",
    "        return b\n",
    "\n",
    "    def optical(x):\n",
    "        y=x-1.82\n",
    "        b = 1.41338*y + 2.28305*y**2 + 1.07233*y**3 - 5.38434*y**4 - 0.62251*y**5 + 5.30260*y**6 - 2.09002*y**7\n",
    "        return b\n",
    "\n",
    "    def ultraviolet(x):\n",
    "        b = -3.090 + 1.825*x + 1.206/((x - 4.62)**2 + 0.263)\n",
    "        return b\n",
    "        \n",
    "    x = 1e4/wl\n",
    "    return jnp.select(condlist=[(x >= 0.3) & (x<=1.1), (x >= 1.1) & (x<=3.3), (x >= 3.3) & (x<=5.9)],\n",
    "                                choicelist=[infrared(x), optical(x), ultraviolet(x)], default=0.)\n",
    "\n",
    "def CCM_b_multi(wl):\n",
    "    return vmap(CCM_b,(0))(wl)"
   ]
  },
  {
   "cell_type": "code",
   "execution_count": 6,
   "id": "45a4ad46-4725-4f37-b9b5-cf78ba14cd07",
   "metadata": {},
   "outputs": [],
   "source": [
    "def color(wl, Av, Rv):\n",
    "    # in dm/dlnl\n",
    "    return grad(lambda x: M_sn(x)+Av*(CCM_a(x)+CCM_b(x)/Rv), (0))(wl)/wl\n",
    "\n",
    "def color_run():\n",
    "    print (color(4400., 0.1, 3.1))\n",
    "\n",
    "# color_run()"
   ]
  },
  {
   "cell_type": "code",
   "execution_count": 7,
   "id": "3cb54aad-3a58-4270-8c2d-076c2a474f52",
   "metadata": {},
   "outputs": [],
   "source": [
    "# distribution of Av Exponentially modified Gaussian distribution\n",
    "\n",
    "# Reasonable values in wikipedia notation\n",
    "Avmu = 0.\n",
    "Avlambda = 5.\n",
    "Avsigma = 0.15\n",
    "\n",
    "# in scipy\n",
    "AvK = 1./Avlambda/Avsigma\n",
    "Avscale = Avsigma\n",
    "\n",
    "def pAvrvs(size=1):\n",
    "    return  exponnorm.rvs(size=size, K=AvK, loc=0, scale=Avscale)\n",
    "    \n",
    "def d2lnpAv(x):\n",
    "    # d2 ln efrc((mu + lambda sigma^2 - x)/sqrt2/sigma)\n",
    "    # z = (mu + lambda sigma^2 - x)/sqrt2/sigma\n",
    "    # d1 = 1/erfc(z) (-2/sqrt(pi) exp(-z^2) (-1/sqrt2/sigma)\n",
    "    # d2 = \n",
    "    z = (Avmu + Avlambda*Avsigma*Avsigma - x)/numpy.sqrt(2)/Avsigma\n",
    "    erfc_ = scipy.special.erfc(z)\n",
    "    exp_ = numpy.exp(-z**2)\n",
    "    return 4*exp_/numpy.sqrt(numpy.pi)/Avscale/Avscale/erfc_ * (z - exp_/numpy.sqrt(numpy.pi)/erfc_)"
   ]
  },
  {
   "cell_type": "markdown",
   "id": "b22cdbee-36a4-4c71-89c0-15eb8605e61a",
   "metadata": {},
   "source": [
    "## Chi-sq term (not including dm_int term which is another part of the code)"
   ]
  },
  {
   "cell_type": "code",
   "execution_count": 8,
   "id": "bc7f66a1-c8de-484d-8716-39420c60508e",
   "metadata": {},
   "outputs": [],
   "source": [
    "# For one object one band\n",
    "def mbar_perfilt(Omega_c, w0, wa, dC, Av, Rv, z, efflam):\n",
    "    # mu not efficient\n",
    "    cosmo = jc.Planck15(Omega_c=Omega_c, w0=w0, wa=wa)\n",
    "    restlam=(efflam+dC[0])/(1+z)\n",
    "    \n",
    "    mu = M_sn(restlam) + 10*jnp.log10(1+z) + 5*jnp.log10(jc.background.angular_diameter_distance(cosmo, 1/(1+z)))[0]\n",
    "    \n",
    "    # extiction\n",
    "    A = Av * (CCM_a(restlam)+CCM_b(restlam)/Rv)\n",
    "\n",
    "    # SN color\n",
    "    c = color(restlam, Av, Rv)\n",
    "    \n",
    "    # calibration\n",
    "    return mu + A + dC[1]+ dC[2]*c\n",
    "\n",
    "def dmbar_perfilt(Omega_c, w0, wa, dC, Av, Rv, z, efflam):\n",
    "    return grad(mbar_perfilt,(0,1,2,3,4,5))(Omega_c, w0, wa, dC, Av, Rv, z, efflam)\n",
    "\n",
    "def dmbar(Omega_c, w0, wa, dCs, Av, Rv, z, efflams):\n",
    "    return vmap(dmbar_perfilt, (None, None, None, 0,  None, None, None, 0))(Omega_c, w0, wa, dCs, Av, Rv, z, efflams)\n",
    "    \n",
    "\n",
    "def mbar(Omega_c, w0, wa, dCs, Av, Rv, z, efflams):\n",
    "    return vmap(mbar_perfilt, (None, None, None, 0,  None, None, None, 0))(Omega_c, w0, wa, dCs, Av, Rv, z, efflams)\n",
    "\n",
    "def mbar_check():\n",
    "    nsn=10\n",
    "    efflams = numpy.array([4700., 6420.,  7849.])\n",
    "    zs = numpy.linspace(0.1,1,nsn)\n",
    "    Avs = pAV().rvs(size=nsn, scale=AVscale)\n",
    "    Rvs = numpy.zeros(nsn)+3.1\n",
    "    dCs= numpy.zeros((3,3))\n",
    "    Omega_c=0.3\n",
    "    w0=-1.\n",
    "    wa=0.\n",
    "    # ans = mbar_perfilt(Omega_c, w0, wa,dCs[0],Avs[0],Rvs[0],zs[0],efflams[0])\n",
    "    # dans = dmbar_perfilt(Omega_c, w0, wa ,dCs[0],Avs[0],Rvs[0],zs[0],efflams[0])\n",
    "    # print(ans)\n",
    "    # for _ in dans:\n",
    "    #     print(_)\n",
    "    ans = mbar(Omega_c, w0, wa,dCs,Avs[0],Rvs[0],zs[0],efflams)\n",
    "    dans = dmbar(Omega_c, w0, wa ,dCs,Avs[0],Rvs[0],zs[0],efflams)\n",
    "    # print(ans)\n",
    "    for _ in dans:\n",
    "        print(_)\n",
    "\n",
    "def F_chisq(Omega_c, w0, wa, dCs, Avs, Rvs, zs, efflams, dm_int, dm_data):\n",
    "\n",
    "    nfilt = len(efflams)\n",
    "    nsn = len(Avs)\n",
    "    ncal = 3\n",
    "    ncosmo = 3\n",
    "    npars = 3 + ncal*nfilt + 2*nsn  # 3 cosmology, ncal * nfilt, Av, Rv\n",
    "                       \n",
    "    F=numpy.zeros((npars,npars))\n",
    "\n",
    "    # For now assume all data have same incertainties\n",
    "    cov = numpy.zeros((nfilt,nfilt))+dm_int**2\n",
    "    diag = numpy.identity(nfilt) * dm_data**2\n",
    "    cov = cov + diag\n",
    "    # Despite the documentation, the example shows L.T L = cov\n",
    "    L, lower = jsp.linalg.cho_factor(cov)\n",
    "    \n",
    "    # loop over SNe\n",
    "    snind=0\n",
    "    for Av , Rv, z in zip( Avs, Rvs, zs):\n",
    "        dmbars = dmbar(Omega_c, w0, wa, dCs, Av, Rv, z, efflams)\n",
    "        #Cosmo\n",
    "        for i in range(ncosmo):\n",
    "            rhs = jsp.linalg.solve_triangular(L, dmbars[i],trans=1,lower=lower)\n",
    "            F[i,i] += jnp.dot(rhs,rhs)\n",
    "            #Cosmo\n",
    "            for j in range(i+1,ncosmo):\n",
    "                lhs = jsp.linalg.solve_triangular(L, dmbars[j],trans=1,lower=lower)\n",
    "                F[i,j] += jnp.dot(lhs,rhs)\n",
    "            # Calibrations\n",
    "            for j in range(nfilt):\n",
    "                for k in range(ncal):\n",
    "                    partial = numpy.zeros(nfilt)\n",
    "                    partial[j] = dmbars[ncosmo][j][k]\n",
    "                    lhs = jsp.linalg.solve_triangular(L, partial,trans=1,lower=lower)\n",
    "                    F[i,ncosmo+ncal*j+k] += jnp.dot(lhs,rhs)\n",
    "            # Av\n",
    "            lhs = jsp.linalg.solve_triangular(L, dmbars[ncosmo+1],trans=1,lower=lower)\n",
    "            F[i,ncosmo+ncal*nfilt+snind] += jnp.dot(lhs,rhs)\n",
    "            \n",
    "            # Rv\n",
    "            lhs = jsp.linalg.solve_triangular(L, dmbars[ncosmo+2],trans=1,lower=lower)\n",
    "            F[i,ncosmo+ncal*nfilt+nsn+snind] += jnp.dot(lhs,rhs)\n",
    "        \n",
    "        #Calibrations\n",
    "        for i in range(nfilt):\n",
    "            for l in range(ncal):\n",
    "                partial = numpy.zeros(nfilt)\n",
    "                partial[i] = dmbars[ncosmo][i][l]\n",
    "                rhs = jsp.linalg.solve_triangular(L, partial,trans=1,lower=lower)\n",
    "                F[ncosmo+ncal*i+l,ncosmo+ncal*i+l] += jnp.dot(rhs,rhs)\n",
    "                \n",
    "                # Calibrations\n",
    "                for j in range(i,nfilt):\n",
    "                    for k in range(ncal):\n",
    "                        partial = numpy.zeros(nfilt)\n",
    "                        partial[j] = dmbars[ncosmo][j][k]\n",
    "                        lhs = jsp.linalg.solve_triangular(L, partial,trans=1,lower=lower)\n",
    "                        F[ncosmo+ncal*i+l,ncosmo+ncal*j+k] += jnp.dot(lhs,rhs)\n",
    "                # Av\n",
    "                lhs = jsp.linalg.solve_triangular(L, dmbars[ncosmo+1],trans=1,lower=lower)\n",
    "                F[ncosmo+ncal*i+l,ncosmo+ncal*nfilt+snind] += jnp.dot(lhs,rhs)\n",
    "                \n",
    "                # Rv\n",
    "                lhs = jsp.linalg.solve_triangular(L, dmbars[ncosmo+2],trans=1,lower=lower)\n",
    "                F[ncosmo+ncal*i+l,ncosmo+ncal*nfilt+nsn+snind] += jnp.dot(lhs,rhs)\n",
    "        \n",
    "\n",
    "        #Av\n",
    "        rhs = jsp.linalg.solve_triangular(L, dmbars[ncosmo+1],trans=1,lower=lower)\n",
    "        F[ncosmo+ncal*nfilt+snind, ncosmo+ncal*nfilt+snind] += jnp.dot(rhs,rhs)\n",
    "\n",
    "            #Rv\n",
    "        lhs = jsp.linalg.solve_triangular(L, dmbars[ncosmo+2],trans=1,lower=lower)\n",
    "        F[ncosmo+ncal*nfilt+snind, ncosmo+ncal*nfilt+nsn+snind] += jnp.dot(lhs,rhs)\n",
    "\n",
    "        #Rv\n",
    "        F[ncosmo+ncal*nfilt+nsn+snind,ncosmo+ncal*nfilt+nsn+snind] += jnp.dot(lhs,lhs)\n",
    "        \n",
    "        snind+=1\n",
    "\n",
    "    for i in range(npars):\n",
    "        for j in range(i+1,npars):\n",
    "            F[j,i]=F[i,j]\n",
    "\n",
    "    return F\n",
    "        \n",
    "def F_chisq_check():\n",
    "    ncal=3\n",
    "    nsn=10\n",
    "    efflams = numpy.array([4700., 6420.,  7849.])\n",
    "    zs = numpy.linspace(0.1,1,nsn)\n",
    "    Avs = pAV().rvs(size=nsn, scale=AVscale)\n",
    "    Rvs = numpy.zeros(nsn)+3.1\n",
    "    dCs= numpy.zeros((3,ncal))\n",
    "    Omega_c=0.3\n",
    "    w0=-1.\n",
    "    wa=0.\n",
    "    dm_int=0.1\n",
    "    dm_data=0.02\n",
    "    F = F_chisq(Omega_c, w0, wa, dCs, Avs, Rvs, zs, efflams, dm_int, dm_data)\n",
    "    print(F)"
   ]
  },
  {
   "cell_type": "markdown",
   "id": "ec52e6ac-7213-4a4b-a442-12227af75adf",
   "metadata": {},
   "source": [
    "## Chi-sq term for dm_int (Not implemented correctly)"
   ]
  },
  {
   "cell_type": "code",
   "execution_count": 9,
   "id": "9978edf5-f29f-42f6-bce4-87e24fefa477",
   "metadata": {},
   "outputs": [],
   "source": [
    "def lnL_dm_int(dm_int, dm_data, nfilt):\n",
    "    \n",
    "    # For now assume all data have same incertainties\n",
    "    cov = numpy.zeros((nfilt,nfilt))+dm_int**2\n",
    "    diag = numpy.identity(nfilt) * dm_data**2\n",
    "    cov = cov + diag\n",
    "    # Despite the documentation, the example shows L.T L = cov\n",
    "    L, lower = jsp.linalg.cho_factor(cov)    \n",
    "    return -0.5/jnp.diagonal(L).prod()**2\n",
    "\n",
    "def d2ln_dm_int(dm_int, dm_data, nfilt):\n",
    "    return grad(grad(lnL_dm_int,(0)),(0))(dm_int,dm_data, nfilt)\n",
    "\n",
    "def F_chisq_dm_int(efflams, dm_int, dm_data, nsn):\n",
    "    nfilt = len(efflams)"
   ]
  },
  {
   "cell_type": "markdown",
   "id": "c237d8bb-7066-4d16-9d29-7f2253cc4021",
   "metadata": {},
   "source": [
    "## A term"
   ]
  },
  {
   "cell_type": "code",
   "execution_count": 10,
   "id": "3cf00106-4b7a-4f46-9e3c-67f70e15718d",
   "metadata": {},
   "outputs": [],
   "source": [
    "def F_Av(Avs):\n",
    "    ans = []\n",
    "    for Av in Avs:\n",
    "        ans.append(-d2lnpAv(Av))\n",
    "    return ans\n",
    "\n",
    "def F_Av_test():\n",
    "    nsn=10\n",
    "    Avs = pAv().rvs(size=nsn, scale=Avscale)    \n",
    "    print(Avs, F_Av(Avs))\n",
    "\n",
    "# F_Av_test()"
   ]
  },
  {
   "cell_type": "markdown",
   "id": "00467a8f-37d6-4270-bf98-36d3f0b5646e",
   "metadata": {},
   "source": [
    "## Log det term"
   ]
  },
  {
   "cell_type": "code",
   "execution_count": 11,
   "id": "044eb507-c8d7-4f69-b65e-db69fc5647ca",
   "metadata": {},
   "outputs": [],
   "source": [
    "def lnL_logdet(dm_int, dm_data, efflams):\n",
    "    nfilt=len(efflams)\n",
    "    # For now assume all data have same incertainties\n",
    "    cov = numpy.zeros((nfilt,nfilt))+dm_int**2\n",
    "    diag = numpy.identity(nfilt) * dm_data**2\n",
    "    cov = cov + diag\n",
    "    # Despite the documentation, the example shows L.T L = cov\n",
    "    L, lower = jsp.linalg.cho_factor(cov)\n",
    "\n",
    "    # logdet term\n",
    "    ans = - jnp.log(jnp.diagonal(L)).sum()\n",
    "    return ans\n",
    "\n",
    "def F_logdet(dm_int, dm_data, efflams):\n",
    "    return grad(grad(lnL_logdet,(0)),(0))(dm_int, dm_data, efflams)\n",
    "\n",
    "def F_logdet_check():\n",
    "    dm_int=0.1\n",
    "    dm_data=0.02\n",
    "    efflams = numpy.array([4700., 6420.,  7849.])\n",
    "    print(F_logdet(dm_int, dm_data, efflams))"
   ]
  },
  {
   "cell_type": "markdown",
   "id": "1fd6a334-dbb7-49c6-b44c-7d58e7e6087a",
   "metadata": {},
   "source": [
    "## Combining all contributions to F (for now leaving out dm_int)"
   ]
  },
  {
   "cell_type": "code",
   "execution_count": 12,
   "id": "43ef52b4-6455-4f8e-a785-2b4c906167f4",
   "metadata": {},
   "outputs": [],
   "source": [
    "def F_all(Omega_c, w0, wa, dCs, Avs, Rvs, zs, efflams, dm_int, dm_data):\n",
    "\n",
    "    nsn = len(Avs)\n",
    "    # prior uncertainty in the calibration parameters\n",
    "    ncal=3\n",
    "    ncosmo =3\n",
    "    ncalinvsig2 = [1.,1e4, 1e12]\n",
    "    # lnlam = numpy.log(efflams)\n",
    "    # deltalnlam = (lnlam[-1] - lnlam[0])/(nfilt-1)\n",
    "    # print(deltalnlam)\n",
    "    # wef\n",
    "    \n",
    "    nfilt = len(efflams)\n",
    "    \n",
    "    # chisq term fills everything\n",
    "    F = F_chisq(Omega_c, w0, wa, dCs, Avs, Rvs, zs, efflams, dm_int, dm_data)\n",
    "\n",
    "    # by hand put in priors for calibration\n",
    "    for i in range(nfilt):\n",
    "        for j in range(ncal):\n",
    "            F[ncosmo+i*nfilt+j,ncosmo+i*nfilt+j] += ncalinvsig2[j]\n",
    "    \n",
    "    Favs = F_Av(Avs)\n",
    "    for i in range(nsn):\n",
    "        F[ncosmo+ncal*nfilt+i, ncosmo+ncal*nfilt+i]+=Favs[i]\n",
    "\n",
    "    for i in range(nsn):\n",
    "        F[ncosmo+ncal*nfilt+nsn+i, ncosmo+ncal*nfilt+nsn+i]+= 1/0.3**3  # by hand the underlying distribution of Rv\n",
    "\n",
    "    return F"
   ]
  },
  {
   "cell_type": "markdown",
   "id": "023c008c-f07e-49b8-a95e-e53256d1328f",
   "metadata": {},
   "source": [
    "## Properties of the DES filter system"
   ]
  },
  {
   "cell_type": "code",
   "execution_count": 17,
   "id": "528e20e1-877e-4998-9541-9fc23ee6cb71",
   "metadata": {},
   "outputs": [
    {
     "name": "stdout",
     "output_type": "stream",
     "text": [
      "0.25641181321433226\n",
      "[3.13333333 4.33783784 5.33945578]\n"
     ]
    }
   ],
   "source": [
    "efflams = numpy.array([4700., 6420.,  7849.])\n",
    "ffwhm = numpy.array([1500., 1480.,  1470.])\n",
    "\n",
    "# separation between filters in log-lambda\n",
    "lnlam = numpy.log(efflams)\n",
    "deltalnlam = (lnlam[-1] - lnlam[0])/(nfilt-1)\n",
    "print(deltalnlam)\n",
    "\n",
    "# lambda/Delta lambda\n",
    "print (efflams/ffwhm)"
   ]
  },
  {
   "cell_type": "markdown",
   "id": "74957bb0-7ead-4dd4-a348-8e1e94fef696",
   "metadata": {},
   "source": [
    "## Run a real example"
   ]
  },
  {
   "cell_type": "code",
   "execution_count": 13,
   "id": "04d80419-de85-4e50-9266-d5e1010e0f66",
   "metadata": {},
   "outputs": [
    {
     "name": "stdout",
     "output_type": "stream",
     "text": [
      "SlogdetResult(sign=1.0, logabsdet=2350.4581546316176)\n",
      "[[ 0.00089364 -0.00099394 -0.00915035]\n",
      " [-0.00099394  0.01539966 -0.08063864]\n",
      " [-0.00915035 -0.08063864  0.69774149]]\n"
     ]
    }
   ],
   "source": [
    "cosmo = jc.Planck15()\n",
    "Omega_c=cosmo.Omega_c\n",
    "w0=cosmo.w0\n",
    "wa=cosmo.wa\n",
    "dm_int =0.1\n",
    "ncal=3\n",
    "ncosmo=3\n",
    "efflams = numpy.array([4700., 6420.,  7849.])\n",
    "ffwhm = numpy.array([1500., 1480.,  1470.])\n",
    "nfilt=len(efflams)\n",
    "\n",
    "#survey 1\n",
    "nsn=100\n",
    "dm_data =0.02\n",
    "zs = numpy.linspace(0.3,1,nsn)\n",
    "zs = numpy.linspace(0.3**3,1**3,nsn)\n",
    "zs = zs**(1/3)\n",
    "\n",
    "Avs = pAvrvs(size=nsn)\n",
    "Rvs = numpy.zeros(nsn)+3.1\n",
    "dCs= numpy.zeros((3,ncal))\n",
    "\n",
    "F1 =  F_all(Omega_c, w0, wa, dCs, Avs, Rvs, zs, efflams, dm_int, dm_data)\n",
    "\n",
    "# #survey 2\n",
    "nsn=100\n",
    "dm_data =0.02\n",
    "zs = numpy.linspace(0.01**3,0.1**3,nsn)\n",
    "zs = zs**(1/3)\n",
    "\n",
    "Avs = pAvrvs(size=nsn)\n",
    "Rvs = numpy.zeros(nsn)+3.1\n",
    "dCs= numpy.zeros((3,ncal))\n",
    "\n",
    "F2 =  F_all(Omega_c, w0, wa, dCs, Avs, Rvs, zs, efflams, dm_int, dm_data)\n",
    "\n",
    "npars = ncosmo + 2*(ncal*nfilt + 2*nsn )\n",
    "\n",
    "F = numpy.zeros((npars,npars))\n",
    "F[0:ncosmo, 0:ncosmo] = F1[0:ncosmo, 0:ncosmo]+ F2[0:ncosmo, 0:ncosmo]\n",
    "F[0:ncosmo, ncosmo:ncosmo+ncal*nfilt + 2*len(Avs)] = F1[0:ncosmo,ncosmo:]\n",
    "F[0:ncosmo, ncosmo+ncal*nfilt + 2* len(Avs):] = F2[0:ncosmo,ncosmo:]\n",
    "F[ncosmo:ncosmo+ncal*nfilt + 2* len(Avs),0:ncosmo] = F1[ncosmo:,0:ncosmo]\n",
    "F[ncosmo+ncal*nfilt + 2* len(Avs):,0:ncosmo] = F2[ncosmo:,0:ncosmo]\n",
    "F[ncosmo:ncosmo+ncal*nfilt + 2* len(Avs),ncosmo:ncosmo+ncal*nfilt + 2* len(Avs)] = F1[ncosmo:,ncosmo:]\n",
    "F[ncosmo+ncal*nfilt + 2*len(Avs):, ncosmo+ncal*nfilt + 2*len(Avs):] = F2[ncosmo:,ncosmo:]\n",
    "\n",
    "F[0,0] += 1/0.03**2 # Omega_M prior\n",
    "\n",
    "print(numpy.linalg.slogdet(F))\n",
    "Finv= numpy.linalg.inv(F[0:3,0:3])\n",
    "print(Finv[0:ncosmo,0:ncosmo])\n"
   ]
  },
  {
   "cell_type": "code",
   "execution_count": 14,
   "id": "6a667d1a-2b45-4a5a-a63b-be6d8e0a89c9",
   "metadata": {},
   "outputs": [
    {
     "data": {
      "text/plain": [
       "0.0282842712474619"
      ]
     },
     "execution_count": 14,
     "metadata": {},
     "output_type": "execute_result"
    }
   ],
   "source": [
    "numpy.sqrt(0.0008)"
   ]
  },
  {
   "cell_type": "code",
   "execution_count": 15,
   "id": "66bad92a-759f-40cc-8a70-7b86c201187c",
   "metadata": {},
   "outputs": [
    {
     "data": {
      "text/plain": [
       "0.029966648127543394"
      ]
     },
     "execution_count": 15,
     "metadata": {},
     "output_type": "execute_result"
    }
   ],
   "source": [
    "numpy.sqrt(8.98e-4)"
   ]
  },
  {
   "cell_type": "code",
   "execution_count": null,
   "id": "bc8f9531-027b-43e1-901f-c16b34ca2242",
   "metadata": {},
   "outputs": [],
   "source": []
  }
 ],
 "metadata": {
  "kernelspec": {
   "display_name": "Python 3 (ipykernel)",
   "language": "python",
   "name": "python3"
  },
  "language_info": {
   "codemirror_mode": {
    "name": "ipython",
    "version": 3
   },
   "file_extension": ".py",
   "mimetype": "text/x-python",
   "name": "python",
   "nbconvert_exporter": "python",
   "pygments_lexer": "ipython3",
   "version": "3.11.7"
  }
 },
 "nbformat": 4,
 "nbformat_minor": 5
}
